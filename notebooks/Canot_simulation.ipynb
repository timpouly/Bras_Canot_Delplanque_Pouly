{
 "cells": [
  {
   "cell_type": "code",
   "execution_count": 14,
   "id": "02910f32",
   "metadata": {},
   "outputs": [],
   "source": [
    "import numpy as np\n",
    "import matplotlib.pyplot as plt\n",
    "import pandas as pd\n",
    "import openpyxl"
   ]
  },
  {
   "cell_type": "code",
   "execution_count": 15,
   "id": "12d6ca65",
   "metadata": {},
   "outputs": [
    {
     "name": "stdout",
     "output_type": "stream",
     "text": [
      "\n"
     ]
    }
   ],
   "source": [
    "link_peak_am = \"../datas/C4_HPM_RN2_BrasCanot_TCSP.xlsx\"\n",
    "link_peak_pm = \"../datas/C4_HPS_RN2_BrasCanot_TCSP.xlsx\"\n",
    "print()"
   ]
  },
  {
   "cell_type": "code",
   "execution_count": 16,
   "id": "9d488e86",
   "metadata": {},
   "outputs": [],
   "source": [
    "df_peak_am_def = pd.read_excel(link_peak_am, sheet_name=\"def\")\n",
    "df_peak_am_pl = pd.read_excel(link_peak_am, sheet_name=\"PL\")\n",
    "df_peak_am_vl = pd.read_excel(link_peak_am, sheet_name=\"VL\")"
   ]
  },
  {
   "cell_type": "code",
   "execution_count": 19,
   "id": "780c4e21",
   "metadata": {},
   "outputs": [
    {
     "data": {
      "text/html": [
       "<div>\n",
       "<style scoped>\n",
       "    .dataframe tbody tr th:only-of-type {\n",
       "        vertical-align: middle;\n",
       "    }\n",
       "\n",
       "    .dataframe tbody tr th {\n",
       "        vertical-align: top;\n",
       "    }\n",
       "\n",
       "    .dataframe thead th {\n",
       "        text-align: right;\n",
       "    }\n",
       "</style>\n",
       "<table border=\"1\" class=\"dataframe\">\n",
       "  <thead>\n",
       "    <tr style=\"text-align: right;\">\n",
       "      <th></th>\n",
       "      <th>centroid</th>\n",
       "      <th>type</th>\n",
       "      <th>link</th>\n",
       "    </tr>\n",
       "  </thead>\n",
       "  <tbody>\n",
       "    <tr>\n",
       "      <th>0</th>\n",
       "      <td>E_BrasCanot</td>\n",
       "      <td>orig</td>\n",
       "      <td>14</td>\n",
       "    </tr>\n",
       "    <tr>\n",
       "      <th>1</th>\n",
       "      <td>E_Duchemann</td>\n",
       "      <td>orig</td>\n",
       "      <td>34</td>\n",
       "    </tr>\n",
       "    <tr>\n",
       "      <th>2</th>\n",
       "      <td>E_RN2_est</td>\n",
       "      <td>orig</td>\n",
       "      <td>83</td>\n",
       "    </tr>\n",
       "    <tr>\n",
       "      <th>3</th>\n",
       "      <td>E_RN2_ouest</td>\n",
       "      <td>orig</td>\n",
       "      <td>35</td>\n",
       "    </tr>\n",
       "    <tr>\n",
       "      <th>4</th>\n",
       "      <td>E_TCSP_est</td>\n",
       "      <td>orig</td>\n",
       "      <td>142</td>\n",
       "    </tr>\n",
       "    <tr>\n",
       "      <th>5</th>\n",
       "      <td>E_TCSP_ouest</td>\n",
       "      <td>orig</td>\n",
       "      <td>137</td>\n",
       "    </tr>\n",
       "    <tr>\n",
       "      <th>6</th>\n",
       "      <td>S_BrasCanot</td>\n",
       "      <td>dest</td>\n",
       "      <td>66</td>\n",
       "    </tr>\n",
       "    <tr>\n",
       "      <th>7</th>\n",
       "      <td>S_Duchemann</td>\n",
       "      <td>dest</td>\n",
       "      <td>93</td>\n",
       "    </tr>\n",
       "    <tr>\n",
       "      <th>8</th>\n",
       "      <td>S_RN2_est</td>\n",
       "      <td>dest</td>\n",
       "      <td>84</td>\n",
       "    </tr>\n",
       "    <tr>\n",
       "      <th>9</th>\n",
       "      <td>S_RN2_ouest</td>\n",
       "      <td>dest</td>\n",
       "      <td>85</td>\n",
       "    </tr>\n",
       "    <tr>\n",
       "      <th>10</th>\n",
       "      <td>S_TCSP_est</td>\n",
       "      <td>dest</td>\n",
       "      <td>141</td>\n",
       "    </tr>\n",
       "    <tr>\n",
       "      <th>11</th>\n",
       "      <td>S_TCSP_ouest</td>\n",
       "      <td>dest</td>\n",
       "      <td>146</td>\n",
       "    </tr>\n",
       "  </tbody>\n",
       "</table>\n",
       "</div>"
      ],
      "text/plain": [
       "        centroid  type  link\n",
       "0    E_BrasCanot  orig    14\n",
       "1    E_Duchemann  orig    34\n",
       "2      E_RN2_est  orig    83\n",
       "3    E_RN2_ouest  orig    35\n",
       "4     E_TCSP_est  orig   142\n",
       "5   E_TCSP_ouest  orig   137\n",
       "6    S_BrasCanot  dest    66\n",
       "7    S_Duchemann  dest    93\n",
       "8      S_RN2_est  dest    84\n",
       "9    S_RN2_ouest  dest    85\n",
       "10    S_TCSP_est  dest   141\n",
       "11  S_TCSP_ouest  dest   146"
      ]
     },
     "execution_count": 19,
     "metadata": {},
     "output_type": "execute_result"
    }
   ],
   "source": [
    "df_peak_am_def"
   ]
  }
 ],
 "metadata": {
  "kernelspec": {
   "display_name": "env_canot",
   "language": "python",
   "name": "python3"
  },
  "language_info": {
   "codemirror_mode": {
    "name": "ipython",
    "version": 3
   },
   "file_extension": ".py",
   "mimetype": "text/x-python",
   "name": "python",
   "nbconvert_exporter": "python",
   "pygments_lexer": "ipython3",
   "version": "3.12.11"
  }
 },
 "nbformat": 4,
 "nbformat_minor": 5
}
